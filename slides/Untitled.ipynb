{
 "cells": [
  {
   "cell_type": "code",
   "execution_count": 2,
   "metadata": {},
   "outputs": [
    {
     "name": "stdin",
     "output_type": "stream",
     "text": [
      "Please enter a grade as a number:  10\n"
     ]
    }
   ],
   "source": []
  },
  {
   "cell_type": "code",
   "execution_count": 15,
   "metadata": {},
   "outputs": [
    {
     "ename": "SyntaxError",
     "evalue": "invalid syntax (<ipython-input-15-096fc71fde0c>, line 10)",
     "output_type": "error",
     "traceback": [
      "\u001b[0;36m  File \u001b[0;32m\"<ipython-input-15-096fc71fde0c>\"\u001b[0;36m, line \u001b[0;32m10\u001b[0m\n\u001b[0;31m    if print(type(grade)) == '<class 'float'>'\u001b[0m\n\u001b[0m                                          ^\u001b[0m\n\u001b[0;31mSyntaxError\u001b[0m\u001b[0;31m:\u001b[0m invalid syntax\n"
     ]
    }
   ],
   "source": [
    "# Take user input in grade\n",
    "# Need to capture non-numberic inputs\n",
    "# and outside of [0,100]\n",
    "# working assumption: all grades are integers\n",
    "# what do you do with non-integers\n",
    "\n",
    "grade = input('Please enter a grade as a number: ')\n",
    "\n",
    "\n",
    "if print(type(grade)) == '<class 'float'>'\n",
    "    grade = int(grade)\n",
    "\n",
    "try: #compare input of user to conditions to check what letter-grade corresponds to the numeric grade\n",
    "    if (grade >= 90 and grade <= 100):\n",
    "        print('A')\n",
    "    elif (grade >= 80 and grade <= 89):\n",
    "        print('B')\n",
    "    elif (grade >= 70 and grade <= 79):\n",
    "        print('C')\n",
    "    elif (grade >= 69 and grade <= 69):\n",
    "        print('D')\n",
    "    elif (grade >= 0 and grade <= 59):\n",
    "        print('F')\n",
    "    else: \n",
    "        print('Enter a legit point please!')\n",
    "except: \n",
    "    print('Enter a legit point please!')"
   ]
  },
  {
   "cell_type": "code",
   "execution_count": 16,
   "metadata": {},
   "outputs": [
    {
     "name": "stdout",
     "output_type": "stream",
     "text": [
      "<class 'float'>\n"
     ]
    }
   ],
   "source": [
    "print(type(91.0))"
   ]
  },
  {
   "cell_type": "code",
   "execution_count": null,
   "metadata": {},
   "outputs": [],
   "source": []
  }
 ],
 "metadata": {
  "kernelspec": {
   "display_name": "Python 3",
   "language": "python",
   "name": "python3"
  },
  "language_info": {
   "codemirror_mode": {
    "name": "ipython",
    "version": 3
   },
   "file_extension": ".py",
   "mimetype": "text/x-python",
   "name": "python",
   "nbconvert_exporter": "python",
   "pygments_lexer": "ipython3",
   "version": "3.6.7"
  }
 },
 "nbformat": 4,
 "nbformat_minor": 2
}
