{
 "cells": [
  {
   "cell_type": "markdown",
   "metadata": {
    "slideshow": {
     "slide_type": "slide"
    }
   },
   "source": [
    "![DSB Logo](img/Dolan.jpg)\n",
    "# Python Essentials: Variables, Expressions, and Statements\n",
    "## PY4E Chapter 2\n",
    "### What you must know about Python"
   ]
  },
  {
   "cell_type": "markdown",
   "metadata": {
    "slideshow": {
     "slide_type": "slide"
    }
   },
   "source": [
    "# Learning Objectives\n",
    "\n",
    "## Theory / Be able to explain ...\n",
    "- Basic Python syntax and structure, including statements, variables, expressions, operators, and functions\n",
    "- How variables and functions allow us to use and reuse data and processing\n",
    "- The debugging process and common types of bugs\n",
    "- How Python conditional statements work\n",
    "\n",
    "## Skills / Know how to  ...\n",
    "- Determine the type of a data value\n",
    "- Use variables to store, retrieve, and update values\n",
    "- Convert from one data type to another\n",
    "- Evaluate basic arithmetic and string expressions\n",
    "- Use an| `if` statement to iterate over a list of values  \n",
    "\n"
   ]
  },
  {
   "cell_type": "markdown",
   "metadata": {
    "slideshow": {
     "slide_type": "slide"
    }
   },
   "source": [
    "# Values and Types\n",
    "\n",
    "- __Value__ is the basic things a program works with\n",
    "    - Can be a letter or a number, or very complex things (e.g. a `Pandas` dataframe)\n",
    "    - So far we have seen values like `1`, `2`, or `'Hello world!'`\n",
    "- Values can be of different __types__\n",
    "    - `1` or `2` is an integer\n",
    "    - `'Hello world!'` is a string: meaning a string of __letters__ (__NOT__ words)\n",
    "        - Python compiler identifies strings using `''` \n",
    "- A lot of Python statements work with different data types"
   ]
  },
  {
   "cell_type": "code",
   "execution_count": 1,
   "metadata": {
    "slideshow": {
     "slide_type": "fragment"
    }
   },
   "outputs": [
    {
     "name": "stdout",
     "output_type": "stream",
     "text": [
      "4\n"
     ]
    }
   ],
   "source": [
    "# display `4`\n",
    "print(4)"
   ]
  },
  {
   "cell_type": "code",
   "execution_count": 2,
   "metadata": {
    "slideshow": {
     "slide_type": "fragment"
    }
   },
   "outputs": [
    {
     "name": "stdout",
     "output_type": "stream",
     "text": [
      "This is a string\n"
     ]
    }
   ],
   "source": [
    "# display `This is a string`\n",
    "print('This is a string')"
   ]
  },
  {
   "cell_type": "markdown",
   "metadata": {},
   "source": [
    "# Values and Types\n",
    "\n",
    "- Values and types are independent\n",
    "    - you can have an integer of `4` and a string of `'4'`\n",
    "    - But they have different meanings\n",
    "- A lot of Python statements only work on certain data types\n",
    "- If you are not sure about the data type, you can use the `type()` function to tell you"
   ]
  },
  {
   "cell_type": "code",
   "execution_count": 3,
   "metadata": {
    "slideshow": {
     "slide_type": "fragment"
    }
   },
   "outputs": [
    {
     "data": {
      "text/plain": [
       "int"
      ]
     },
     "execution_count": 3,
     "metadata": {},
     "output_type": "execute_result"
    }
   ],
   "source": [
    "# display `int`\n",
    "type(4)"
   ]
  },
  {
   "cell_type": "code",
   "execution_count": 4,
   "metadata": {
    "slideshow": {
     "slide_type": "fragment"
    }
   },
   "outputs": [
    {
     "data": {
      "text/plain": [
       "str"
      ]
     },
     "execution_count": 4,
     "metadata": {},
     "output_type": "execute_result"
    }
   ],
   "source": [
    "# display `str`\n",
    "type('4')"
   ]
  },
  {
   "cell_type": "code",
   "execution_count": 5,
   "metadata": {
    "slideshow": {
     "slide_type": "fragment"
    }
   },
   "outputs": [
    {
     "data": {
      "text/plain": [
       "float"
      ]
     },
     "execution_count": 5,
     "metadata": {},
     "output_type": "execute_result"
    }
   ],
   "source": [
    "# display `float`\n",
    "type(4.0)"
   ]
  },
  {
   "cell_type": "markdown",
   "metadata": {
    "slideshow": {
     "slide_type": "slide"
    }
   },
   "source": [
    "# Values and Types\n",
    "\n",
    "- If needed, you can convert certain value between data types\n",
    "    - just use data types as function for conversion\n",
    "- The `print()` statement works most of the time displaying your input\n",
    "    - But sometimes it does not do that\n",
    "    - For instance, a certain large number of `1,000,000`\n",
    "    - This would create a __semantic error__ (review it at Chapter 1 slides)\n",
    "        - The statement does not produce an error, but it does not act properly"
   ]
  },
  {
   "cell_type": "code",
   "execution_count": 6,
   "metadata": {
    "slideshow": {
     "slide_type": "fragment"
    }
   },
   "outputs": [
    {
     "data": {
      "text/plain": [
       "int"
      ]
     },
     "execution_count": 6,
     "metadata": {},
     "output_type": "execute_result"
    }
   ],
   "source": [
    "# display `int`\n",
    "type(int('4'))"
   ]
  },
  {
   "cell_type": "code",
   "execution_count": 7,
   "metadata": {
    "slideshow": {
     "slide_type": "fragment"
    }
   },
   "outputs": [
    {
     "data": {
      "text/plain": [
       "str"
      ]
     },
     "execution_count": 7,
     "metadata": {},
     "output_type": "execute_result"
    }
   ],
   "source": [
    "# display `str`\n",
    "type(str(4))"
   ]
  },
  {
   "cell_type": "code",
   "execution_count": 8,
   "metadata": {
    "slideshow": {
     "slide_type": "fragment"
    }
   },
   "outputs": [
    {
     "name": "stdout",
     "output_type": "stream",
     "text": [
      "1 0 0\n"
     ]
    }
   ],
   "source": [
    "# display `1 0 0`\n",
    "print(1,000,000)"
   ]
  },
  {
   "cell_type": "markdown",
   "metadata": {
    "slideshow": {
     "slide_type": "slide"
    }
   },
   "source": [
    "# Variables\n",
    "\n",
    "- Sometimes we need to reuse values in later parts of the program\n",
    "- We need to provide a symbolic name to the value\n",
    "    - we call that a __variable__\n",
    "- The statement provide a symbolic name to the value is called an __assignment statement__\n",
    "    - _assignment statement_ should be before the statements using the variables\n",
    "    - The _symbolic name_ should be meaningful"
   ]
  },
  {
   "cell_type": "code",
   "execution_count": 9,
   "metadata": {
    "slideshow": {
     "slide_type": "fragment"
    }
   },
   "outputs": [],
   "source": [
    "message = 'And now for something completely different'\n",
    "n = 17\n",
    "pi = 3.1415926535897931"
   ]
  },
  {
   "cell_type": "code",
   "execution_count": 10,
   "metadata": {
    "slideshow": {
     "slide_type": "fragment"
    }
   },
   "outputs": [
    {
     "name": "stdout",
     "output_type": "stream",
     "text": [
      "17\n"
     ]
    }
   ],
   "source": [
    "print(n)"
   ]
  },
  {
   "cell_type": "code",
   "execution_count": 11,
   "metadata": {
    "slideshow": {
     "slide_type": "fragment"
    }
   },
   "outputs": [
    {
     "name": "stdout",
     "output_type": "stream",
     "text": [
      "6.283185307179586\n"
     ]
    }
   ],
   "source": [
    "print(pi * 2)"
   ]
  },
  {
   "cell_type": "code",
   "execution_count": 12,
   "metadata": {
    "slideshow": {
     "slide_type": "fragment"
    }
   },
   "outputs": [
    {
     "data": {
      "text/plain": [
       "str"
      ]
     },
     "execution_count": 12,
     "metadata": {},
     "output_type": "execute_result"
    }
   ],
   "source": [
    "type(message)"
   ]
  },
  {
   "cell_type": "code",
   "execution_count": 13,
   "metadata": {
    "slideshow": {
     "slide_type": "fragment"
    }
   },
   "outputs": [
    {
     "data": {
      "text/plain": [
       "int"
      ]
     },
     "execution_count": 13,
     "metadata": {},
     "output_type": "execute_result"
    }
   ],
   "source": [
    "type(n)"
   ]
  },
  {
   "cell_type": "code",
   "execution_count": 14,
   "metadata": {
    "slideshow": {
     "slide_type": "fragment"
    }
   },
   "outputs": [
    {
     "data": {
      "text/plain": [
       "float"
      ]
     },
     "execution_count": 14,
     "metadata": {},
     "output_type": "execute_result"
    }
   ],
   "source": [
    "type(pi)"
   ]
  },
  {
   "cell_type": "markdown",
   "metadata": {
    "slideshow": {
     "slide_type": "slide"
    }
   },
   "source": [
    "# Your Turn Here\n",
    "\n",
    "Can you think of certain scenario where we have to use variables, rather than loose values?\n",
    "Answer Anthonie Hollaar:\n",
    "For very long values such as pi (for example needed in order to calculate the area of a square), it is a lot easier to use a short variable name."
   ]
  },
  {
   "cell_type": "markdown",
   "metadata": {
    "slideshow": {
     "slide_type": "slide"
    }
   },
   "source": [
    "# Variable names and Keywords\n",
    "\n",
    "- You know that variables need to have a symbolic name\n",
    "    - actually you can choose whatever name for a certain value\n",
    "    - but you should always choose the name that is __meaningful__\n",
    "    \n",
    "- Rules/Suggestions for variable names:\n",
    "    - variable names can be of arbitrary length\n",
    "    - variable can contain _numbers_ and _letters_, but can only start with _letters_\n",
    "    - You can start a variable name with a capital letter, but it is good practice to start with an undercase letter\n",
    "    - spaces are not allowed, but underscore (`_`) is allowed to connect two words (e.g. `my_words`)\n",
    "        - underscore has specific meaning in some packages, be careful when use them as the start of the variable name\n",
    "\n",
    "- If you use an illegal name, you will get a __syntax error__"
   ]
  },
  {
   "cell_type": "code",
   "execution_count": 15,
   "metadata": {
    "slideshow": {
     "slide_type": "fragment"
    }
   },
   "outputs": [
    {
     "ename": "SyntaxError",
     "evalue": "invalid syntax (<ipython-input-15-ee59a172c534>, line 1)",
     "output_type": "error",
     "traceback": [
      "\u001b[0;36m  File \u001b[0;32m\"<ipython-input-15-ee59a172c534>\"\u001b[0;36m, line \u001b[0;32m1\u001b[0m\n\u001b[0;31m    76trombones = 'big parade'\u001b[0m\n\u001b[0m              ^\u001b[0m\n\u001b[0;31mSyntaxError\u001b[0m\u001b[0;31m:\u001b[0m invalid syntax\n"
     ]
    }
   ],
   "source": [
    "76trombones = 'big parade'"
   ]
  },
  {
   "cell_type": "code",
   "execution_count": 3,
   "metadata": {
    "slideshow": {
     "slide_type": "fragment"
    }
   },
   "outputs": [
    {
     "ename": "FileNotFoundError",
     "evalue": "[Errno 2] No such file or directory: '@ = 1000000'",
     "output_type": "error",
     "traceback": [
      "\u001b[0;31m---------------------------------------------------------------------------\u001b[0m",
      "\u001b[0;31mFileNotFoundError\u001b[0m                         Traceback (most recent call last)",
      "\u001b[0;32m<ipython-input-3-874d58278958>\u001b[0m in \u001b[0;36m<module>\u001b[0;34m\u001b[0m\n\u001b[0;32m----> 1\u001b[0;31m \u001b[0mget_ipython\u001b[0m\u001b[0;34m(\u001b[0m\u001b[0;34m)\u001b[0m\u001b[0;34m.\u001b[0m\u001b[0mrun_line_magic\u001b[0m\u001b[0;34m(\u001b[0m\u001b[0;34m'more'\u001b[0m\u001b[0;34m,\u001b[0m \u001b[0;34m'@ = 1000000'\u001b[0m\u001b[0;34m)\u001b[0m\u001b[0;34m\u001b[0m\u001b[0;34m\u001b[0m\u001b[0m\n\u001b[0m",
      "\u001b[0;32m/opt/tljh/user/lib/python3.6/site-packages/IPython/core/interactiveshell.py\u001b[0m in \u001b[0;36mrun_line_magic\u001b[0;34m(self, magic_name, line, _stack_depth)\u001b[0m\n\u001b[1;32m   2312\u001b[0m                 \u001b[0mkwargs\u001b[0m\u001b[0;34m[\u001b[0m\u001b[0;34m'local_ns'\u001b[0m\u001b[0;34m]\u001b[0m \u001b[0;34m=\u001b[0m \u001b[0msys\u001b[0m\u001b[0;34m.\u001b[0m\u001b[0m_getframe\u001b[0m\u001b[0;34m(\u001b[0m\u001b[0mstack_depth\u001b[0m\u001b[0;34m)\u001b[0m\u001b[0;34m.\u001b[0m\u001b[0mf_locals\u001b[0m\u001b[0;34m\u001b[0m\u001b[0;34m\u001b[0m\u001b[0m\n\u001b[1;32m   2313\u001b[0m             \u001b[0;32mwith\u001b[0m \u001b[0mself\u001b[0m\u001b[0;34m.\u001b[0m\u001b[0mbuiltin_trap\u001b[0m\u001b[0;34m:\u001b[0m\u001b[0;34m\u001b[0m\u001b[0;34m\u001b[0m\u001b[0m\n\u001b[0;32m-> 2314\u001b[0;31m                 \u001b[0mresult\u001b[0m \u001b[0;34m=\u001b[0m \u001b[0mfn\u001b[0m\u001b[0;34m(\u001b[0m\u001b[0;34m*\u001b[0m\u001b[0margs\u001b[0m\u001b[0;34m,\u001b[0m \u001b[0;34m**\u001b[0m\u001b[0mkwargs\u001b[0m\u001b[0;34m)\u001b[0m\u001b[0;34m\u001b[0m\u001b[0;34m\u001b[0m\u001b[0m\n\u001b[0m\u001b[1;32m   2315\u001b[0m             \u001b[0;32mreturn\u001b[0m \u001b[0mresult\u001b[0m\u001b[0;34m\u001b[0m\u001b[0;34m\u001b[0m\u001b[0m\n\u001b[1;32m   2316\u001b[0m \u001b[0;34m\u001b[0m\u001b[0m\n",
      "\u001b[0;32m</opt/tljh/user/lib/python3.6/site-packages/decorator.py:decorator-gen-118>\u001b[0m in \u001b[0;36mless\u001b[0;34m(self, arg_s)\u001b[0m\n",
      "\u001b[0;32m/opt/tljh/user/lib/python3.6/site-packages/IPython/core/magic.py\u001b[0m in \u001b[0;36m<lambda>\u001b[0;34m(f, *a, **k)\u001b[0m\n\u001b[1;32m    185\u001b[0m     \u001b[0;31m# but it's overkill for just that one bit of state.\u001b[0m\u001b[0;34m\u001b[0m\u001b[0;34m\u001b[0m\u001b[0;34m\u001b[0m\u001b[0m\n\u001b[1;32m    186\u001b[0m     \u001b[0;32mdef\u001b[0m \u001b[0mmagic_deco\u001b[0m\u001b[0;34m(\u001b[0m\u001b[0marg\u001b[0m\u001b[0;34m)\u001b[0m\u001b[0;34m:\u001b[0m\u001b[0;34m\u001b[0m\u001b[0;34m\u001b[0m\u001b[0m\n\u001b[0;32m--> 187\u001b[0;31m         \u001b[0mcall\u001b[0m \u001b[0;34m=\u001b[0m \u001b[0;32mlambda\u001b[0m \u001b[0mf\u001b[0m\u001b[0;34m,\u001b[0m \u001b[0;34m*\u001b[0m\u001b[0ma\u001b[0m\u001b[0;34m,\u001b[0m \u001b[0;34m**\u001b[0m\u001b[0mk\u001b[0m\u001b[0;34m:\u001b[0m \u001b[0mf\u001b[0m\u001b[0;34m(\u001b[0m\u001b[0;34m*\u001b[0m\u001b[0ma\u001b[0m\u001b[0;34m,\u001b[0m \u001b[0;34m**\u001b[0m\u001b[0mk\u001b[0m\u001b[0;34m)\u001b[0m\u001b[0;34m\u001b[0m\u001b[0;34m\u001b[0m\u001b[0m\n\u001b[0m\u001b[1;32m    188\u001b[0m \u001b[0;34m\u001b[0m\u001b[0m\n\u001b[1;32m    189\u001b[0m         \u001b[0;32mif\u001b[0m \u001b[0mcallable\u001b[0m\u001b[0;34m(\u001b[0m\u001b[0marg\u001b[0m\u001b[0;34m)\u001b[0m\u001b[0;34m:\u001b[0m\u001b[0;34m\u001b[0m\u001b[0;34m\u001b[0m\u001b[0m\n",
      "\u001b[0;32m/opt/tljh/user/lib/python3.6/site-packages/ipykernel/zmqshell.py\u001b[0m in \u001b[0;36mless\u001b[0;34m(self, arg_s)\u001b[0m\n\u001b[1;32m    340\u001b[0m             \u001b[0mcont\u001b[0m \u001b[0;34m=\u001b[0m \u001b[0mself\u001b[0m\u001b[0;34m.\u001b[0m\u001b[0mshell\u001b[0m\u001b[0;34m.\u001b[0m\u001b[0mpycolorize\u001b[0m\u001b[0;34m(\u001b[0m\u001b[0mopenpy\u001b[0m\u001b[0;34m.\u001b[0m\u001b[0mread_py_file\u001b[0m\u001b[0;34m(\u001b[0m\u001b[0marg_s\u001b[0m\u001b[0;34m,\u001b[0m \u001b[0mskip_encoding_cookie\u001b[0m\u001b[0;34m=\u001b[0m\u001b[0;32mFalse\u001b[0m\u001b[0;34m)\u001b[0m\u001b[0;34m)\u001b[0m\u001b[0;34m\u001b[0m\u001b[0;34m\u001b[0m\u001b[0m\n\u001b[1;32m    341\u001b[0m         \u001b[0;32melse\u001b[0m\u001b[0;34m:\u001b[0m\u001b[0;34m\u001b[0m\u001b[0;34m\u001b[0m\u001b[0m\n\u001b[0;32m--> 342\u001b[0;31m             \u001b[0mcont\u001b[0m \u001b[0;34m=\u001b[0m \u001b[0mopen\u001b[0m\u001b[0;34m(\u001b[0m\u001b[0marg_s\u001b[0m\u001b[0;34m)\u001b[0m\u001b[0;34m.\u001b[0m\u001b[0mread\u001b[0m\u001b[0;34m(\u001b[0m\u001b[0;34m)\u001b[0m\u001b[0;34m\u001b[0m\u001b[0;34m\u001b[0m\u001b[0m\n\u001b[0m\u001b[1;32m    343\u001b[0m         \u001b[0mpage\u001b[0m\u001b[0;34m.\u001b[0m\u001b[0mpage\u001b[0m\u001b[0;34m(\u001b[0m\u001b[0mcont\u001b[0m\u001b[0;34m)\u001b[0m\u001b[0;34m\u001b[0m\u001b[0;34m\u001b[0m\u001b[0m\n\u001b[1;32m    344\u001b[0m \u001b[0;34m\u001b[0m\u001b[0m\n",
      "\u001b[0;31mFileNotFoundError\u001b[0m: [Errno 2] No such file or directory: '@ = 1000000'"
     ]
    }
   ],
   "source": [
    "more@ = 1000000"
   ]
  },
  {
   "cell_type": "code",
   "execution_count": 17,
   "metadata": {
    "slideshow": {
     "slide_type": "fragment"
    }
   },
   "outputs": [
    {
     "ename": "SyntaxError",
     "evalue": "invalid syntax (<ipython-input-17-73fc4ce1a15a>, line 1)",
     "output_type": "error",
     "traceback": [
      "\u001b[0;36m  File \u001b[0;32m\"<ipython-input-17-73fc4ce1a15a>\"\u001b[0;36m, line \u001b[0;32m1\u001b[0m\n\u001b[0;31m    class = 'Advanced Theoretical Zymurgy'\u001b[0m\n\u001b[0m          ^\u001b[0m\n\u001b[0;31mSyntaxError\u001b[0m\u001b[0;31m:\u001b[0m invalid syntax\n"
     ]
    }
   ],
   "source": [
    "class = 'Advanced Theoretical Zymurgy'"
   ]
  },
  {
   "cell_type": "markdown",
   "metadata": {
    "slideshow": {
     "slide_type": "slide"
    }
   },
   "source": [
    "# What happened above?\n",
    "\n",
    "- `76trombones` is illegal because it begins with a number. \n",
    "- `more@` is illegal because it contains an illegal character, `@`. \n",
    "- But what’s wrong with `class`?\n",
    "    - It turns out that class is one of Python’s keywords. \n",
    "    - You don't have to remember these keywords, Juoyter will help you color code them as green"
   ]
  },
  {
   "cell_type": "markdown",
   "metadata": {
    "slideshow": {
     "slide_type": "slide"
    }
   },
   "source": [
    "# Statements\n",
    "\n",
    "- A _statement_ is a unit of code that the Python interpreter can execute.\n",
    "    - we already saw different types of statement: e.g. `print()`, and assignment\n",
    "- Normally, the Python complier executes the statements sequentially (top-down)\n",
    "    - __Note__ that not all statements provide output"
   ]
  },
  {
   "cell_type": "code",
   "execution_count": 18,
   "metadata": {
    "slideshow": {
     "slide_type": "subslide"
    }
   },
   "outputs": [
    {
     "name": "stdout",
     "output_type": "stream",
     "text": [
      "1\n",
      "2\n"
     ]
    }
   ],
   "source": [
    "print(1)  # display `1`\n",
    "x=2  # no output\n",
    "print(x) #display `2`"
   ]
  },
  {
   "cell_type": "markdown",
   "metadata": {
    "slideshow": {
     "slide_type": "slide"
    }
   },
   "source": [
    "# Operators and Operands\n",
    "\n",
    "- _Operators_ are special symbols that represent computations\n",
    "    - like addition and multiplication\n",
    "    \n",
    "- The values the operator is applied to are called _operands_.\n",
    "\n",
    "```\n",
    "Operand Operator Operand\n",
    "3       *        2\n",
    "```"
   ]
  },
  {
   "cell_type": "code",
   "execution_count": 19,
   "metadata": {
    "slideshow": {
     "slide_type": "subslide"
    }
   },
   "outputs": [
    {
     "data": {
      "text/plain": [
       "0.9833333333333333"
      ]
     },
     "execution_count": 19,
     "metadata": {},
     "output_type": "execute_result"
    }
   ],
   "source": [
    "# Python 3 division produces floating results\n",
    "minute = 59\n",
    "minute/60"
   ]
  },
  {
   "cell_type": "code",
   "execution_count": 20,
   "metadata": {
    "slideshow": {
     "slide_type": "subslide"
    }
   },
   "outputs": [
    {
     "data": {
      "text/plain": [
       "0"
      ]
     },
     "execution_count": 20,
     "metadata": {},
     "output_type": "execute_result"
    }
   ],
   "source": [
    "# Python 2 division divide two integers to an integer\n",
    "# In Python 3 we use floor division (//)\n",
    "minute//60"
   ]
  },
  {
   "cell_type": "markdown",
   "metadata": {
    "slideshow": {
     "slide_type": "slide"
    }
   },
   "source": [
    "# Expressions\n",
    "\n",
    "- An _expression_ is a combination of _values_, _variables_, and _operators_\n",
    "    - A value all by itself is considered an expression, and so is a variable\n",
    "    - So follow are all legal expressions\n",
    "    \n",
    "```python\n",
    "17\n",
    "x\n",
    "x + 17\n",
    "```\n",
    "- __Note__ the difference between statements and expressions\n",
    "    - Statements are executed - if any variable is involved then the results are stored\n",
    "    - expressions are evaluated by compiler, and output the results"
   ]
  },
  {
   "cell_type": "markdown",
   "metadata": {
    "slideshow": {
     "slide_type": "slide"
    }
   },
   "source": [
    "# Order of Operators\n",
    "\n",
    "When more than one operator appears in an expression, the order of evaluation depends on the _rules of precedence_ (PEMDAS).\n",
    "\n",
    "- _Parentheses_ have the highest precedence and can be used to force an expres- sion to evaluate in the order you want.\n",
    "- _Exponentiation_ has the next highest precedence\n",
    "- _Multiplication_ and _Division_ have the same precedence, which is higher than Addition and Subtraction, which also have the same precedence.\n",
    "- Operators with the same precedence are evaluated from _left_ to _right_. \n",
    "\n",
    "Refer to the textbook for examples of PEMDAS."
   ]
  },
  {
   "cell_type": "markdown",
   "metadata": {
    "slideshow": {
     "slide_type": "slide"
    }
   },
   "source": [
    "# Special Operators\n",
    "\n",
    "- Modulus operator (`%`)\n",
    "    - The modulus operator works on integers and yields the remainder when the first operand is divided by the second.\n",
    "```python\n",
    "8 % 3 # = 2\n",
    "```\n",
    "\n",
    "    - if `x % y` is zero, then `x` is divisible by `y`.\n"
   ]
  },
  {
   "cell_type": "markdown",
   "metadata": {
    "slideshow": {
     "slide_type": "slide"
    }
   },
   "source": [
    "# String operations\n",
    "- The `+` operator works with strings, but it is not addition in the mathematical sense\\\n",
    "    - Instead it performs _concatenation_\n",
    "    - which means joining the strings by linking them end to end\n",
    "    \n",
    "- The `*` operator also works with strings by multiplying the content of a string by an integer.\n",
    "    \n",
    "For example:"
   ]
  },
  {
   "cell_type": "code",
   "execution_count": 21,
   "metadata": {
    "slideshow": {
     "slide_type": "subslide"
    }
   },
   "outputs": [
    {
     "name": "stdout",
     "output_type": "stream",
     "text": [
      "25\n"
     ]
    }
   ],
   "source": [
    "# mathmatical `+`\n",
    "first = 10\n",
    "second = 15\n",
    "print(first+second)"
   ]
  },
  {
   "cell_type": "code",
   "execution_count": 22,
   "metadata": {
    "slideshow": {
     "slide_type": "subslide"
    }
   },
   "outputs": [
    {
     "name": "stdout",
     "output_type": "stream",
     "text": [
      "100150\n"
     ]
    }
   ],
   "source": [
    "# string `+`\n",
    "first = '100'\n",
    "second = '150'\n",
    "print(first+second)"
   ]
  },
  {
   "cell_type": "code",
   "execution_count": 23,
   "metadata": {
    "slideshow": {
     "slide_type": "subslide"
    }
   },
   "outputs": [
    {
     "name": "stdout",
     "output_type": "stream",
     "text": [
      "Python Python Python \n"
     ]
    }
   ],
   "source": [
    "first = 'Python '\n",
    "second = 3\n",
    "print(first * second)"
   ]
  },
  {
   "cell_type": "markdown",
   "metadata": {
    "slideshow": {
     "slide_type": "slide"
    }
   },
   "source": [
    "# Asking for User Input \n",
    "\n",
    "\n",
    "Sometimes we would like to take the value for a variable from the user via their keyboard.\n",
    "- Python use a built-in function `input()` for that\n",
    "    - When `input()` is called, the program stops and wait for user to type\n",
    "    - When user press `Return` or `Enter` the program resumes and takes user input as a _string_\n",
    "    \n",
    "For example:"
   ]
  },
  {
   "cell_type": "code",
   "execution_count": 24,
   "metadata": {
    "slideshow": {
     "slide_type": "subslide"
    }
   },
   "outputs": [
    {
     "name": "stdout",
     "output_type": "stream",
     "text": [
      "I love Python!\n"
     ]
    }
   ],
   "source": [
    "user_input = input()"
   ]
  },
  {
   "cell_type": "code",
   "execution_count": 25,
   "metadata": {
    "slideshow": {
     "slide_type": "subslide"
    }
   },
   "outputs": [
    {
     "name": "stdout",
     "output_type": "stream",
     "text": [
      "I love Python!\n"
     ]
    }
   ],
   "source": [
    "print(user_input)"
   ]
  },
  {
   "cell_type": "markdown",
   "metadata": {
    "slideshow": {
     "slide_type": "slide"
    }
   },
   "source": [
    "# Asking for User Input\n",
    "\n",
    "- It is always a good practice to tell the user what to input\n",
    "    - You can use that by putting a string between the parentheses after `input` \n",
    "    - This is called a parameter (to the function `input()`\n",
    "    - We will talk more about functions and paramters in next week\n",
    "\n",
    "- The sequence \\n at the end of the prompt represents a _newline_, which is a _special character_ that causes a line break.\n",
    "    - We will talk more about _special characters_ in Chapter 11\n",
    "\n",
    "For example:"
   ]
  },
  {
   "cell_type": "code",
   "execution_count": 27,
   "metadata": {
    "slideshow": {
     "slide_type": "subslide"
    }
   },
   "outputs": [
    {
     "name": "stdout",
     "output_type": "stream",
     "text": [
      "What is the class you are in now?\n",
      "BA505\n"
     ]
    }
   ],
   "source": [
    "course = input('What is the class you are in now?\\n')"
   ]
  },
  {
   "cell_type": "code",
   "execution_count": 28,
   "metadata": {
    "slideshow": {
     "slide_type": "subslide"
    }
   },
   "outputs": [
    {
     "name": "stdout",
     "output_type": "stream",
     "text": [
      "BA505\n"
     ]
    }
   ],
   "source": [
    "print(course)"
   ]
  },
  {
   "cell_type": "markdown",
   "metadata": {
    "slideshow": {
     "slide_type": "slide"
    }
   },
   "source": [
    "# Comments (Again!!!)\n",
    "\n",
    "- As programs getting longer, they become harder to read\n",
    "    - it is difficult for other people (e.g. me) to understand your code\n",
    "    - it is also difficult for yourself to recollect what and why your wrote certain code \n",
    "    \n",
    "- For this reason, it is good practice to add comments to your code\n",
    "    - explain in natural language what and why the code is doing \n",
    "    - You can start your comments with the `#` symbol\n",
    "    \n",
    "- You can put the comments:\n",
    "    - In a line by themselves, usually before the code they explain\n",
    "    - or in the same line, after the code"
   ]
  },
  {
   "cell_type": "code",
   "execution_count": 29,
   "metadata": {
    "slideshow": {
     "slide_type": "subslide"
    }
   },
   "outputs": [],
   "source": [
    "# compute the percentage of the hour that has elapsed\n",
    "percentage = (minute * 100) / 60"
   ]
  },
  {
   "cell_type": "code",
   "execution_count": 30,
   "metadata": {
    "slideshow": {
     "slide_type": "subslide"
    }
   },
   "outputs": [],
   "source": [
    "# Same as above\n",
    "percentage = (minute * 100) / 60 # percentage of an hour"
   ]
  },
  {
   "cell_type": "markdown",
   "metadata": {
    "slideshow": {
     "slide_type": "slide"
    }
   },
   "source": [
    "# Comments\n",
    "\n",
    "- In this course, for every program you submitted as a part of the course work, you have to provide __comments__ for every code block\n",
    "- Everything after `#` is ignored by the Python compiler\n",
    "    - So you can use `#` to 'comment out' code that you do not want to run\n",
    "    \n",
    "```python\n",
    "# some text code\n",
    "x = 3\n",
    "...\n",
    "```\n",
    "\n",
    "- Your comment should always provide new or at least non-obvious information\n",
    "    - Comments should be used when variable names are not self-explanatory\n",
    "```python\n",
    "### BAD comment\n",
    "v = 5 # assign 5 to v\n",
    "### Good comment\n",
    "v = 5 # velocity in meters/second.\n",
    "```"
   ]
  },
  {
   "cell_type": "markdown",
   "metadata": {
    "slideshow": {
     "slide_type": "slide"
    }
   },
   "source": [
    "# Choosing Good Variable Names\n",
    "- We said that your variable names should be self explanatory\n",
    "    - But what do we mean?\n",
    "    \n",
    "```python\n",
    "a = 35.0 \n",
    "b = 12.50 \n",
    "c=a*b \n",
    "print(c)\n",
    "\n",
    "hours = 35.0\n",
    "rate = 12.50\n",
    "pay = hours * rate\n",
    "print(pay)\n",
    "\n",
    "x1q3z9ahd = 35.0\n",
    "x1q3z9afd = 12.50\n",
    "x1q3p9afd = x1q3z9ahd * x1q3z9afd\n",
    "print(x1q3p9afd)\n",
    "```\n",
    "\n",
    "The Python interpreter sees all three above as the same program, but can you tell the difference? And which one is better?\n"
   ]
  },
  {
   "cell_type": "markdown",
   "metadata": {
    "slideshow": {
     "slide_type": "slide"
    }
   },
   "source": [
    "# Debugging\n",
    "\n",
    "Refer to PY4E text 2.13 (pp. 28) "
   ]
  },
  {
   "cell_type": "markdown",
   "metadata": {
    "slideshow": {
     "slide_type": "slide"
    }
   },
   "source": [
    "# Your Turn Here\n",
    "Finish exercises below by following instructions of each of them."
   ]
  },
  {
   "cell_type": "markdown",
   "metadata": {
    "slideshow": {
     "slide_type": "subslide"
    }
   },
   "source": [
    "## Q1: Debugging Question\n",
    "```python\n",
    "# What is wrong with following statement? How do your fix it?\n",
    "my variable == 3\n",
    "```\n",
    "Use the code block below to fix the code, and provide comments about how you fixed it."
   ]
  },
  {
   "cell_type": "code",
   "execution_count": 3,
   "metadata": {},
   "outputs": [],
   "source": [
    "#Author: Anthonie Hollaar\n",
    "#Date: 09-16-2019 (mm-dd-yyyy)\n",
    "#The statement is wrong because the naming of the variable \"my variable\" doesn't allow spaces according to Python syntax\n",
    "#The correct name would be for example: `my_variable`\n",
    "#\n",
    "#Secondly, the `==` compares the variable 'my_variable' to the number: `3` and it will give a boolean (either False or True)\n",
    "#In case you don't want to compare the variable to the number 3 if it is equal or not, and instead you just want to assign the number 3 to the variable the code below works:\n",
    "my_variable = 3"
   ]
  },
  {
   "cell_type": "code",
   "execution_count": null,
   "metadata": {
    "slideshow": {
     "slide_type": "slide"
    }
   },
   "outputs": [],
   "source": [
    "## Q2: Coding Question\n",
    "\n",
    "Ask the user (yourself) to enter two intergers, and print out the sum and difference of the two integers.\n",
    "- You need to make sure your program only take integers, so if a float is entered, it need to be converted to integers.\n",
    "    - HINT: read PY4E pp. 25 - 26.\n",
    "- The expected output for your code is (you can use different numbers in your own code):\n",
    "```\n",
    "Enter your first integer: 10\n",
    "Enter your second integer: 20\n",
    "The sum is: 30\n",
    "The difference is: -10\n",
    "```\n",
    "\n",
    "Complete/fix the code below."
   ]
  },
  {
   "cell_type": "code",
   "execution_count": 5,
   "metadata": {
    "slideshow": {
     "slide_type": "subslide"
    }
   },
   "outputs": [
    {
     "name": "stdin",
     "output_type": "stream",
     "text": [
      "Enter your first integer:  10\n"
     ]
    }
   ],
   "source": [
    "num1 = int(input('Enter your first integer: '))"
   ]
  },
  {
   "cell_type": "code",
   "execution_count": 6,
   "metadata": {
    "slideshow": {
     "slide_type": "subslide"
    }
   },
   "outputs": [
    {
     "name": "stdin",
     "output_type": "stream",
     "text": [
      "Enter your second integer:  20\n"
     ]
    }
   ],
   "source": [
    "num2 = int(input('Enter your second integer: '))"
   ]
  },
  {
   "cell_type": "code",
   "execution_count": 7,
   "metadata": {
    "slideshow": {
     "slide_type": "subslide"
    }
   },
   "outputs": [
    {
     "name": "stdout",
     "output_type": "stream",
     "text": [
      "The sum is:  30\n"
     ]
    }
   ],
   "source": [
    "print('The sum is: ', num1 + num2)"
   ]
  },
  {
   "cell_type": "code",
   "execution_count": 8,
   "metadata": {
    "slideshow": {
     "slide_type": "subslide"
    }
   },
   "outputs": [
    {
     "name": "stdout",
     "output_type": "stream",
     "text": [
      "The difference is: -10\n"
     ]
    }
   ],
   "source": [
    "print('The difference is:', num1 - num2)"
   ]
  },
  {
   "cell_type": "markdown",
   "metadata": {
    "slideshow": {
     "slide_type": "slide"
    }
   },
   "source": [
    "## Q3: Coding Question\n",
    "\n",
    "Compute the area of a triagle.\n",
    "From the geometry class we know the area of a triangle is computed via:\n",
    "\n",
    "\n",
    "$ \n",
    "\\begin {equation*}\n",
    "\\mathbf{Area} = \\frac{(height x base)}{2} \n",
    "\\end {equation*}\n",
    "$\n",
    "\n",
    "Write your own code, with comments, to implement above equation.\n"
   ]
  },
  {
   "cell_type": "code",
   "execution_count": 8,
   "metadata": {
    "slideshow": {
     "slide_type": "subslide"
    }
   },
   "outputs": [
    {
     "name": "stdin",
     "output_type": "stream",
     "text": [
      "enter the height of the triangle:  5\n",
      "enter the base of the triangle:  2\n"
     ]
    },
    {
     "name": "stdout",
     "output_type": "stream",
     "text": [
      "the area of the triangle is:  5.0\n"
     ]
    }
   ],
   "source": [
    "# Purpose of the program: compute the area of a triangle whereby the user can input the base and height of the triangle in userboxes\n",
    "# Author: Anthonie Hollaar\n",
    "# version 1.0\n",
    "# Date: 10-09-2019 (mm-dd-yyyy)\n",
    "\n",
    "# define height as a float variable\n",
    "height = float(input('enter the height of the triangle: '))\n",
    "\n",
    "# define base as a float variable\n",
    "base = float(input('enter the base of the triangle: '))\n",
    "\n",
    "# formula of the area of a triangle\n",
    "area = ((height*base)/2)\n",
    "\n",
    "# output of the area formula for a triangle\n",
    "print('the area of the triangle is: ', area)"
   ]
  },
  {
   "cell_type": "markdown",
   "metadata": {
    "slideshow": {
     "slide_type": "slide"
    }
   },
   "source": [
    "![DSB Logo](img/Dolan.jpg)\n",
    "# Python Essentials: Conditional Execution\n",
    "## PY4E Chapter 3\n",
    "### What you must know about Python"
   ]
  },
  {
   "cell_type": "markdown",
   "metadata": {
    "slideshow": {
     "slide_type": "slide"
    }
   },
   "source": [
    "# Boolean Expressions\n",
    "A boolean expression is an expression that is either true or false.\n",
    "- Python use the operator `==`, which compares two operands\n",
    "- roduces `True` if they are equal and `False` otherwise\n",
    "\n",
    "`True` and `False` are special values that belong to the class _bool_; they are not _strings_"
   ]
  },
  {
   "cell_type": "code",
   "execution_count": 35,
   "metadata": {
    "slideshow": {
     "slide_type": "subslide"
    }
   },
   "outputs": [
    {
     "data": {
      "text/plain": [
       "True"
      ]
     },
     "execution_count": 35,
     "metadata": {},
     "output_type": "execute_result"
    }
   ],
   "source": [
    "5 == 5"
   ]
  },
  {
   "cell_type": "code",
   "execution_count": 36,
   "metadata": {
    "slideshow": {
     "slide_type": "subslide"
    }
   },
   "outputs": [
    {
     "data": {
      "text/plain": [
       "False"
      ]
     },
     "execution_count": 36,
     "metadata": {},
     "output_type": "execute_result"
    }
   ],
   "source": [
    "5 == 6"
   ]
  },
  {
   "cell_type": "markdown",
   "metadata": {
    "slideshow": {
     "slide_type": "slide"
    }
   },
   "source": [
    "# Comparison Operators\n",
    "\n",
    "The `==` operator is one of the _comparison operators_; the others are:\n",
    "\n",
    "```python\n",
    "x != y     # x is not equal to y\n",
    "x > y      # x is greater than y\n",
    "x < y      # x is less than y\n",
    "x >= y     # x is greater than or equal to y\n",
    "x <= y     # x is less than or equalto y\n",
    "x is y     # x is the same as y\n",
    "x is not y # x is not the same as y\n",
    "```\n",
    "__NOTE__: \n",
    "1. keep in mind in Python `=` is the _assignment operator_ not _equal_\n",
    "2. `==` are used to compare number; `is` can be used to compare numbers, strings, ...  \n"
   ]
  },
  {
   "cell_type": "markdown",
   "metadata": {
    "slideshow": {
     "slide_type": "slide"
    }
   },
   "source": [
    "# Logical Operators\n",
    "\n",
    "There are three logical operators: `and`, `or`, and `not`. \n",
    "    - The semantics (meaning) of these operators is similar to their meaning in English.\n",
    "    - For example:\n",
    "```python \n",
    "    x > 0 and x < 10\n",
    "```\n",
    "    \n",
    "    is only `True` if `x` is greater than 0 and less than 10.\n",
    "    \n",
    "```python\n",
    "    n%2 == 0 or n%3 == 0  \n",
    "```\n",
    "    \n",
    "    is `True` if either of the conditions is true, that is, if the number is divisible by 2 or 3.\n",
    "    \n",
    "```python\n",
    "    not (x > y)\n",
    "```\n",
    "    \n",
    "    is `True` if `x > y`is `False`; that is,if `x` is less than or equal to `y`.\n",
    "    \n",
    "__NOTE:___ Any _non-zero_ number is `True`."
   ]
  },
  {
   "cell_type": "markdown",
   "metadata": {
    "slideshow": {
     "slide_type": "slide"
    }
   },
   "source": [
    "# IF statements\n",
    "\n",
    "In a lot of programs, we need the program to change behavior based on certain conditions\n",
    "    - The simplest conditional execution is _IF statements_\n",
    "    - Psuedo Code:\n",
    "```python\n",
    "if condition:\n",
    "    # condition is True\n",
    "    do something\n",
    "   \n",
    "else:\n",
    "    # condition is false\n",
    "    ...\n",
    "```\n"
   ]
  },
  {
   "cell_type": "markdown",
   "metadata": {
    "slideshow": {
     "slide_type": "slide"
    }
   },
   "source": [
    "# Dissecting IF Statements\n",
    "\n",
    "Any if statement would have three required components and one optional component:\n",
    "- keyword `if` indicates the statement;\n",
    "- certain `condition` that is an expression with _comparison operators_ and _logical operators_\n",
    "    - after `condition`, do NOT forget the colon (`:`)\n",
    "- Whatever you want the program to do if `condition` is `True`\n",
    "    - no limitation of the statements within the IF statement, but at least one\n",
    "    - if you do not have any statement，you can use `pass` statement to escape from the IF statement\n",
    "- (Optional) `else` clause indicating if `condition` is `False` what you want the program to do\n",
    "    - if there is no `else` clause then the program continues to the statement after the IF statement"
   ]
  },
  {
   "cell_type": "code",
   "execution_count": 41,
   "metadata": {
    "slideshow": {
     "slide_type": "subslide"
    }
   },
   "outputs": [
    {
     "name": "stdout",
     "output_type": "stream",
     "text": [
      "10 is even\n"
     ]
    }
   ],
   "source": [
    "x = 10\n",
    "if (x % 2 == 0):\n",
    "    print(x, 'is even')\n",
    "else:\n",
    "    print(x, 'is odd') # this will not execute"
   ]
  },
  {
   "cell_type": "code",
   "execution_count": 42,
   "metadata": {
    "slideshow": {
     "slide_type": "subslide"
    }
   },
   "outputs": [
    {
     "name": "stdout",
     "output_type": "stream",
     "text": [
      "10 is even\n"
     ]
    }
   ],
   "source": [
    "# Same output as above - different logic\n",
    "x = 10\n",
    "if (x % 2 != 0):\n",
    "    pass\n",
    "else:\n",
    "    print(x, 'is even') "
   ]
  },
  {
   "cell_type": "markdown",
   "metadata": {
    "slideshow": {
     "slide_type": "slide"
    }
   },
   "source": [
    "# Chained Conditionals\n",
    "\n",
    "The IF statement (`if-else`) contains at most _two_ alternatives (`True` or `False`) - and at a time only _one_ of the two alternatives executes.\n",
    "Sometimes we need more than two alternatives (aka. branches), so we can use a chained conditional.\n",
    "Psuedo code:\n",
    "```python\n",
    "if condition1:\n",
    "    statement1\n",
    "elif condition2:\n",
    "    statement2\n",
    "...\n",
    "```"
   ]
  },
  {
   "cell_type": "code",
   "execution_count": 43,
   "metadata": {
    "slideshow": {
     "slide_type": "subslide"
    }
   },
   "outputs": [
    {
     "name": "stdout",
     "output_type": "stream",
     "text": [
      "x and y are equal\n"
     ]
    }
   ],
   "source": [
    "x = 10\n",
    "y = 10\n",
    "\n",
    "if x < y:\n",
    "    print('x is less than y')\n",
    "elif x > y:\n",
    "    print('x is greater than y')\n",
    "else:\n",
    "    print('x and y are equal')\n"
   ]
  },
  {
   "cell_type": "code",
   "execution_count": 44,
   "metadata": {
    "slideshow": {
     "slide_type": "subslide"
    }
   },
   "outputs": [
    {
     "name": "stdout",
     "output_type": "stream",
     "text": [
      "Enter your guess (a, b, or c): a\n",
      "Bad guess\n"
     ]
    }
   ],
   "source": [
    "# Another example\n",
    "choice = input('Enter your guess (a, b, or, c): ')\n",
    "\n",
    "if choice == 'a': \n",
    "    print('Bad guess')\n",
    "elif choice == 'b': \n",
    "    print('Good guess')\n",
    "elif choice == 'c':\n",
    "    print('Close, but not correct')"
   ]
  },
  {
   "cell_type": "markdown",
   "metadata": {
    "slideshow": {
     "slide_type": "slide"
    }
   },
   "source": [
    "# Nested Conditionals\n",
    "One conditional can also be nested within another. We could have written the three-branch example like this:\n",
    "```python\n",
    "if x == y:\n",
    "    print('x and y are equal')\n",
    "else:\n",
    "    if x < y:\n",
    "        print('x is less than y') \n",
    "    else:\n",
    "        print('x is greater than y')\n",
    "```\n",
    "__NOTE__: Nested conditionals hurt readability of your code, avoid them if you can."
   ]
  },
  {
   "cell_type": "markdown",
   "metadata": {
    "slideshow": {
     "slide_type": "subslide"
    }
   },
   "source": [
    "# Your Turn Here\n",
    "Rewrite the (a, b, c) choice conditional using Nested Conditionals."
   ]
  },
  {
   "cell_type": "code",
   "execution_count": 5,
   "metadata": {
    "slideshow": {
     "slide_type": "subslide"
    }
   },
   "outputs": [
    {
     "name": "stdin",
     "output_type": "stream",
     "text": [
      "Enter your guess (a, b, or, c):  c\n"
     ]
    },
    {
     "name": "stdout",
     "output_type": "stream",
     "text": [
      "Close, but not correct\n"
     ]
    }
   ],
   "source": [
    "# Program: give the user an input box for entering his/her guess with options a,b,c and as output get a message if the guess is bad/good/close\n",
    "# Author: Anthonie Hollaar\n",
    "# Date: 10/09/2019\n",
    "# version 1.0\n",
    "\n",
    "choice = input('Enter your guess (a, b, or, c): ')\n",
    "\n",
    "if choice == 'a': \n",
    "    print('Bad guess')\n",
    "else:\n",
    "    if choice == 'b': \n",
    "        print('Good guess')  \n",
    "    else: #choice == 'c'\n",
    "        print('Close, but not correct')"
   ]
  },
  {
   "cell_type": "code",
   "execution_count": null,
   "metadata": {
    "slideshow": {
     "slide_type": "slide"
    }
   },
   "outputs": [],
   "source": [
    "# Nested Conditionals\n",
    "\n",
    "Sometimes we come up with nested conditionals like below:\n",
    "```python\n",
    "if x > 0:\n",
    "    if x < 10:\n",
    "        print('x is a positive single-digit number.')\n",
    "```\n",
    "The `print()` statement is executed only if both conditions are `True`.\n",
    "\n",
    "We can simply use a _logical operater+ instead:\n",
    "```python\n",
    "if (x >0 and x <10):\n",
    "    print('x is a positive single-digit number.')\n",
    "```"
   ]
  },
  {
   "cell_type": "markdown",
   "metadata": {
    "slideshow": {
     "slide_type": "slide"
    }
   },
   "source": [
    "# Try-Except Catch\n",
    "\n",
    "Consider the (a, b, c) choice example, what would happen if we input something other than (a, b, c)?\n",
    "\n",
    "Or the user input example from last week, what if we entered something other than an integer?\n",
    "\n",
    "Let's try..."
   ]
  },
  {
   "cell_type": "code",
   "execution_count": 45,
   "metadata": {
    "slideshow": {
     "slide_type": "subslide"
    }
   },
   "outputs": [
    {
     "name": "stdout",
     "output_type": "stream",
     "text": [
      "Enter your guess (a, b, or, c): d\n"
     ]
    }
   ],
   "source": [
    "# Another example\n",
    "# This example shows that your conditions must be exhausive\n",
    "choice = input('Enter your guess (a, b, or, c): ')\n",
    "\n",
    "if choice == 'a': \n",
    "    print('Bad guess')\n",
    "elif choice == 'b': \n",
    "    print('Good guess')\n",
    "elif choice == 'c':\n",
    "    print('Close, but not correct')"
   ]
  },
  {
   "cell_type": "code",
   "execution_count": 8,
   "metadata": {
    "slideshow": {
     "slide_type": "subslide"
    }
   },
   "outputs": [
    {
     "name": "stdin",
     "output_type": "stream",
     "text": [
      "Enter Fahrenheit Temperature:  100\n"
     ]
    },
    {
     "name": "stdout",
     "output_type": "stream",
     "text": [
      "37.77777777777778\n"
     ]
    }
   ],
   "source": [
    "inp = input('Enter Fahrenheit Temperature: ')\n",
    "fahr = float(inp)\n",
    "cel = (fahr - 32.0) * 5.0 / 9.0\n",
    "print(cel)"
   ]
  },
  {
   "cell_type": "markdown",
   "metadata": {
    "slideshow": {
     "slide_type": "slide"
    }
   },
   "source": [
    "# Try-Except Catch\n",
    "\n",
    "Python has a built-in conditional handle these types of expected and unexpected errors called “try / except”\n",
    "    - The idea of try and except is that you know that some sequence of instruction(s) may have a problem\n",
    "    - you want to add some statements to be executed if an error occurs\n",
    "\n",
    "We can rewrite our temperature converter as follows:"
   ]
  },
  {
   "cell_type": "code",
   "execution_count": 14,
   "metadata": {
    "slideshow": {
     "slide_type": "slide"
    }
   },
   "outputs": [
    {
     "name": "stdin",
     "output_type": "stream",
     "text": [
      "Enter Fahrenheit Temperature:  aa\n"
     ]
    },
    {
     "name": "stdout",
     "output_type": "stream",
     "text": [
      "Please enter a number\n"
     ]
    }
   ],
   "source": [
    "inp = input('Enter Fahrenheit Temperature: ') \n",
    "try:\n",
    "    fahr = float(inp)\n",
    "    cel = (fahr - 32.0) * 5.0 / 9.0\n",
    "    print(cel)\n",
    "except:\n",
    "    print('Please enter a number')"
   ]
  },
  {
   "cell_type": "markdown",
   "metadata": {
    "slideshow": {
     "slide_type": "slide"
    }
   },
   "source": [
    "# Evaluating Your Conditions (Logical Expressions)\n",
    "\n",
    "- Before you write a conditional statement, you should always test your conditions\n",
    "    - To see if that fits your logic (expectation)\n",
    "    - Best way to avoid logic error\n",
    "    - Means you need to have sound logic before coding\n",
    "    - Think about following examples\n",
    "```python\n",
    "x = 9\n",
    "y = 3\n",
    "x % 2 == 0 # True or False?\n",
    "x % 3 == 0 # True or False?\n",
    "x % 2 == 0 and y % 3 ==0 # True or False?\n",
    "x % 2 == 0 or y % 3 == 0 # True or False?\n",
    "```"
   ]
  },
  {
   "cell_type": "markdown",
   "metadata": {
    "slideshow": {
     "slide_type": "slide"
    }
   },
   "source": [
    "# Evaluating Your Conditions (Logical Expressions)\n",
    "\n",
    "- This is a very important step before _coding_ and _debugging_\n",
    "- You need to test your conditions using different values to test the soundness of your logic\n",
    "- It is okay if your logic is not sound at first, but you should be able to add conditions to make it better"
   ]
  },
  {
   "cell_type": "markdown",
   "metadata": {
    "slideshow": {
     "slide_type": "slide"
    }
   },
   "source": [
    "# Debugging \n",
    "\n",
    "Refer to PY4E pp. 39"
   ]
  },
  {
   "cell_type": "markdown",
   "metadata": {
    "slideshow": {
     "slide_type": "slide"
    }
   },
   "source": [
    "# Your Turn Here\n",
    "Finish exercises below by following instructions of each of them."
   ]
  },
  {
   "cell_type": "markdown",
   "metadata": {
    "slideshow": {
     "slide_type": "slide"
    }
   },
   "source": [
    "## Q1. Coding Problem\n",
    "\n",
    "### Check Factors:\n",
    "\n",
    "Given __four__ values, check if the first three values are factors of __fourth__ value. [Factor](https://www.britannica.com/science/factor-mathematics), in mathematics, a number or algebraic expression that divides another number or expression evenly.\n",
    "\n",
    "Example input/output:\n",
    "\n",
    "- 1, 2, 4, 8 -> Yes, 1, 2, 4 are all factors of 8.\n",
    "- 1, 2, 3, 9 -> No, 1, 2, 3 are not all factors of 9.\n",
    "- 1, 2, 50, 100 -> Yes, 1, 2, 50 are all factors of 100.\n",
    "\n",
    "Use the code block below to write your program."
   ]
  },
  {
   "cell_type": "code",
   "execution_count": 33,
   "metadata": {
    "slideshow": {
     "slide_type": "subslide"
    }
   },
   "outputs": [
    {
     "name": "stdin",
     "output_type": "stream",
     "text": [
      "Please enter 4 values seperated by comma and a space [example: 1, 2, 4, 8] to check if the first three values are factors of the fourth value  1, 50, 2, 100\n"
     ]
    },
    {
     "name": "stdout",
     "output_type": "stream",
     "text": [
      "1 , 50 , 2 , 100 -> Yes, 1 ,  50 ,  2  are all factors of 100 .\n"
     ]
    }
   ],
   "source": [
    "# # Author: Anthonie Hollaar\n",
    "# Date: 06-16-2019 (mm-dd-yyyy)\n",
    "# Purpose: let the user input 4 values and check if the first three values are factors of the fourth value\n",
    "##################################################################################################################\n",
    "\n",
    "# declare `message`, for the user to provide him/her information on the required input\n",
    "message = 'Please enter 4 values seperated by comma and a space [example:1, 2, 4, 8] to check if the first three values are factors of the fourth value '\n",
    "\n",
    "# show `message` to the user with an inputbox to input the numbers and save them to the variable `four_values`\n",
    "four_values = input(message)\n",
    "\n",
    "# make a list of the user values\n",
    "list_values = [four_values]\n",
    "\n",
    "##################################################################################################################\n",
    "#determine each value entered by the user taking into account values > 1 digit\n",
    "##################################################################################################################\n",
    "#determine the positions of the three spaces in the string from the user\n",
    "space_1 = (four_values.find(\" \", 0))\n",
    "space_2 = (four_values.find(\" \", space_1+1))\n",
    "space_3 = (four_values.find(\" \", space_2+1))\n",
    "\n",
    "#print('position spaces', space_1, space_2, space_3)\n",
    "##################################################################################################################\n",
    "#define first number entered by user\n",
    "input_1 = four_values[0:space_1-1]\n",
    "#define second number entered by user\n",
    "input_2 = four_values[space_1+1:space_2-1]\n",
    "#define third number entered by user\n",
    "input_3 = four_values[space_2+1:space_3-1]\n",
    "#define fourth number entered by user\n",
    "input_4 = four_values[space_3+1:]\n",
    "\n",
    "#print(input_1, input_2, input_3, input_4)\n",
    "##################################################################################################################\n",
    "\n",
    "#define number to be tested as a factor of the second number as value_1 and value_2 in that order.\n",
    "value_1 = int(input_1)\n",
    "value_2 = int(input_4)\n",
    "\n",
    "# define formula for testing if a value is a factor of another value\n",
    "# if the remainder is zero when dividing value_2 by value_1 then it must be an even number, and thus value_1 is a factor of value_2\n",
    "factor_formula = value_2%value_1\n",
    "\n",
    "# test if the 1st value is a factor if the 4th value\n",
    "if  factor_formula == 0:\n",
    "    #set the value equal to the 2nd number given by the user\n",
    "    value_1 = int(input_2)\n",
    "    value_2 = int(input_4)\n",
    "    #reset formula\n",
    "    factor_formula = value_2%value_1\n",
    "    # test if the 2st value is a factor of the 4th value\n",
    "    if factor_formula == 0:\n",
    "        #set the value equal to the 3nd number given by the user\n",
    "        #reset formula\n",
    "        value_1 = int(input_3)\n",
    "        value_2 = int(input_4)\n",
    "        #reset formula\n",
    "        factor_formula = value_2%value_1\n",
    "    else: print(input_1,',', input_2,',', input_3,',', input_4,'->', 'No,', input_1,', ',input_2,', ', input_3,' are not all factors of',input_4,'.')\n",
    "    # test if the 3rd value is a factor of the 4th value\n",
    "    if factor_formula == 0:\n",
    "        #show results to user in a message\n",
    "        print(input_1,',', input_2,',', input_3,',', input_4,'->', 'Yes,', input_1,', ',input_2,', ', input_3,' are all factors of',input_4,'.')\n",
    "    else: print(input_1,',', input_2,',', input_3,',', input_4,'->', 'No,', input_1,', ',input_2,', ', input_3,' are not all factors of',input_4,'.') \n",
    "\n",
    "#show results to user in a message if one of the first three values was not a factor of the fourth value inputted by the user      \n",
    "else: \n",
    "    print(input_1,',', input_2,',', input_3,',', input_4,'->', 'No,', input_1,', ',input_2,', ', input_3,' are not all factors of',input_4,'.')\n",
    "    \n"
   ]
  },
  {
   "cell_type": "markdown",
   "metadata": {
    "slideshow": {
     "slide_type": "slide"
    }
   },
   "source": [
    "# Q2. Coding Problem\n",
    "\n",
    "### Grading scale:\n",
    "\n",
    "Suppose a high school uses following grading scale:\n",
    "\n",
    "| Letter Grade | Point Range |\n",
    "|--------------|-------------|\n",
    "|       A      |  90 - 100   |\n",
    "|       B      |  80 - 89    |\n",
    "|       C      |  70 - 79    |\n",
    "|       D      |  60 - 69    |\n",
    "|       F      |   0 - 59    |\n",
    "\n",
    "Write two programs, one using __chained conditionals__, the other using __nested conditionals__, to:\n",
    "- Take the user input of a point grade;\n",
    "    - if the input is not a number, or not in the range of [0, 100] then print `'Enter a legit point please!'`\n",
    "- Display the according letter grade using the table below;\n"
   ]
  },
  {
   "cell_type": "code",
   "execution_count": 2,
   "metadata": {
    "slideshow": {
     "slide_type": "subslide"
    }
   },
   "outputs": [
    {
     "name": "stdin",
     "output_type": "stream",
     "text": [
      "Please enter a grade as a number:  50\n"
     ]
    },
    {
     "name": "stdout",
     "output_type": "stream",
     "text": [
      "F\n"
     ]
    }
   ],
   "source": [
    "# Take user input in grade\n",
    "# Need to capture non-numberic inputs\n",
    "# and outside of [0,100]\n",
    "# working assumption: all grades are integers\n",
    "# what do you do with non-integers\n",
    "\n",
    "grade = input('Please enter a grade as a number: ')\n",
    "\n",
    "try: #compare input of user to conditions to check what letter-grade corresponds to the numeric grade\n",
    "     #convert string to integer\n",
    "    grade = int(grade)\n",
    "    if (grade >= 90 and grade <= 100):\n",
    "        print('A')\n",
    "    elif (grade >= 80 and grade <= 89):\n",
    "        print('B')\n",
    "    elif (grade >= 70 and grade <= 79):\n",
    "        print('C')\n",
    "    elif (grade >= 69 and grade <= 69):\n",
    "        print('D')\n",
    "    elif (grade >= 0 and grade <= 59):\n",
    "        print('F')\n",
    "    else: \n",
    "        print('Enter a legit point please!')\n",
    "except: \n",
    "    print('Enter a legit point please!')"
   ]
  },
  {
   "cell_type": "markdown",
   "metadata": {
    "slideshow": {
     "slide_type": "slide"
    }
   },
   "source": [
    "## Q3. Code Completion Question\n",
    "\n",
    "### Range of Third Edge\n",
    "\n",
    "From geometry we know that for any triangle, lenthg of the third edge of the traingle falls into a certain range:\n",
    "\n",
    "> (`edge1_len` - `edge2_len`) + `1` <= `edge3_len` <=  (`edge1_len` + `edge2_len`) - `1`\n",
    "\n",
    "In which, edge1_len is the length of the 1st edge, and so forth.\n",
    "\n",
    "Complete/Fix the following program, so that it can:\n",
    "- Take user inputs of `edge1_len` and `edge2_len`\n",
    "- Print out the range of the third edge\n",
    "- If any of the input is not number, print out error `'Please only enter numeric values!'`"
   ]
  },
  {
   "cell_type": "code",
   "execution_count": 1,
   "metadata": {
    "slideshow": {
     "slide_type": "subslide"
    }
   },
   "outputs": [
    {
     "name": "stdin",
     "output_type": "stream",
     "text": [
      "Please enter edge1 length:  2\n",
      "Please enter edge2 length:  4\n"
     ]
    },
    {
     "name": "stdout",
     "output_type": "stream",
     "text": [
      "Range of length of edge3 is:  3.0 <= edge3 <= 5.0\n"
     ]
    }
   ],
   "source": [
    "#### Take user input of edge 1\n",
    "edge1_len = float(input('Please enter edge1 length: '))\n",
    "edge2_len = float(input('Please enter edge2 length: '))\n",
    "max_len = 0\n",
    "min_len = 0\n",
    "\n",
    "# complete code below\n",
    "try:\n",
    "    min_len = (abs(edge1_len - edge2_len) + 1) # abs() takes the absolute value since the length cannot be negative\n",
    "    max_len = (abs(edge1_len + edge2_len) - 1) #### Complete your code here\n",
    "    print('Range of length of edge3 is: ', min_len, '<= edge3 <=', max_len) ####complete your code here)\n",
    "except:\n",
    "    print('Please only enter numeric values!')"
   ]
  },
  {
   "cell_type": "code",
   "execution_count": null,
   "metadata": {
    "slideshow": {
     "slide_type": "slide"
    }
   },
   "outputs": [],
   "source": [
    "# Classwork (start here in class)\n",
    "You can start working on them right now:\n",
    "- Read Chapter 2 & 3 in PY4E\n",
    "- If time permits, start in on your homework. \n",
    "- Ask questions when you need help. Use this time to get help from the professor!\n",
    "\n",
    "# Homework (do at home)\n",
    "The following is due before class next week:\n",
    "  - Any remaining classwork from tonight\n",
    "  - Data Camp “Python Basics” assignment (part 2)\n",
    "\n",
    "Note: All work on Data Camp is logged. Don't try to fake it!\n",
    "\n",
    "Please email jtao@fairfield.edu if you have any problems or questions."
   ]
  },
  {
   "cell_type": "markdown",
   "metadata": {
    "slideshow": {
     "slide_type": "slide"
    }
   },
   "source": [
    "![DSB Logo](img/Dolan.jpg)\n",
    "# Python Essentials: Variables, Expressions, Statements, and Conditions\n",
    "## PY4E Chapter 2 & 3\n",
    "### What you must know about Python"
   ]
  },
  {
   "cell_type": "code",
   "execution_count": null,
   "metadata": {},
   "outputs": [],
   "source": []
  }
 ],
 "metadata": {
  "celltoolbar": "Slideshow",
  "kernelspec": {
   "display_name": "Python 3",
   "language": "python",
   "name": "python3"
  },
  "language_info": {
   "codemirror_mode": {
    "name": "ipython",
    "version": 3
   },
   "file_extension": ".py",
   "mimetype": "text/x-python",
   "name": "python",
   "nbconvert_exporter": "python",
   "pygments_lexer": "ipython3",
   "version": "3.6.7"
  }
 },
 "nbformat": 4,
 "nbformat_minor": 2
}
