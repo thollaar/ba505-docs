{
 "cells": [
  {
   "cell_type": "code",
   "execution_count": 3,
   "metadata": {},
   "outputs": [
    {
     "name": "stdin",
     "output_type": "stream",
     "text": [
      "Enter a Celsius temperature to convert to Fahrenheit 30\n"
     ]
    },
    {
     "name": "stdout",
     "output_type": "stream",
     "text": [
      "The temperature in celcius:  temp_celius is equal to:  86.0  Fahrenheit.\n"
     ]
    }
   ],
   "source": [
    "temp_celcius = float(input('Enter a Celsius temperature to convert to Fahrenheit'))\n",
    "\n",
    "formula_cel_to_far = (temp_celcius * (9/5) + 32)\n",
    "\n",
    "print('The temperature in celcius: ', 'temp_celius', 'is equal to: ', formula_cel_to_far, ' Fahrenheit.')\n",
    "\n"
   ]
  }
 ],
 "metadata": {
  "kernelspec": {
   "display_name": "Python 3",
   "language": "python",
   "name": "python3"
  },
  "language_info": {
   "codemirror_mode": {
    "name": "ipython",
    "version": 3
   },
   "file_extension": ".py",
   "mimetype": "text/x-python",
   "name": "python",
   "nbconvert_exporter": "python",
   "pygments_lexer": "ipython3",
   "version": "3.6.7"
  }
 },
 "nbformat": 4,
 "nbformat_minor": 2
}
